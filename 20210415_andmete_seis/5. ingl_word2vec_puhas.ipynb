{
 "cells": [
  {
   "cell_type": "code",
   "execution_count": 46,
   "metadata": {},
   "outputs": [],
   "source": [
    "import urllib.request, os\n",
    "from bs4 import BeautifulSoup\n",
    "import pandas as pd\n",
    "from pathlib import Path\n",
    "from sklearn.metrics.pairwise import cosine_similarity\n",
    "import numpy as np\n",
    "import shutil\n",
    "import os"
   ]
  },
  {
   "cell_type": "code",
   "execution_count": 47,
   "metadata": {},
   "outputs": [
    {
     "data": {
      "text/html": [
       "<div>\n",
       "<style scoped>\n",
       "    .dataframe tbody tr th:only-of-type {\n",
       "        vertical-align: middle;\n",
       "    }\n",
       "\n",
       "    .dataframe tbody tr th {\n",
       "        vertical-align: top;\n",
       "    }\n",
       "\n",
       "    .dataframe thead th {\n",
       "        text-align: right;\n",
       "    }\n",
       "</style>\n",
       "<table border=\"1\" class=\"dataframe\">\n",
       "  <thead>\n",
       "    <tr style=\"text-align: right;\">\n",
       "      <th></th>\n",
       "      <th>Kohtuasja_ID</th>\n",
       "      <th>Kohtuasja_nr</th>\n",
       "      <th>Lõigu sisu</th>\n",
       "      <th>Pealkiri1</th>\n",
       "      <th>Tag</th>\n",
       "    </tr>\n",
       "  </thead>\n",
       "  <tbody>\n",
       "    <tr>\n",
       "      <th>0</th>\n",
       "      <td>1</td>\n",
       "      <td>In Case C‑414/20 PPU</td>\n",
       "      <td>JUDGMENT OF THE COURT (Third Chamber)</td>\n",
       "      <td>Koda</td>\n",
       "      <td>C19Centre</td>\n",
       "    </tr>\n",
       "    <tr>\n",
       "      <th>1</th>\n",
       "      <td>1</td>\n",
       "      <td>In Case C‑414/20 PPU</td>\n",
       "      <td>13 January 2021</td>\n",
       "      <td>Kuupaev</td>\n",
       "      <td>C19Centre</td>\n",
       "    </tr>\n",
       "    <tr>\n",
       "      <th>2</th>\n",
       "      <td>1</td>\n",
       "      <td>In Case C‑414/20 PPU</td>\n",
       "      <td>(Reference for a preliminary ruling – Urgent p...</td>\n",
       "      <td>Viited</td>\n",
       "      <td>C71Indicateur</td>\n",
       "    </tr>\n",
       "    <tr>\n",
       "      <th>3</th>\n",
       "      <td>1</td>\n",
       "      <td>In Case C‑414/20 PPU</td>\n",
       "      <td>MM,</td>\n",
       "      <td>Poolte_nimed</td>\n",
       "      <td>C02AlineaAltA</td>\n",
       "    </tr>\n",
       "    <tr>\n",
       "      <th>4</th>\n",
       "      <td>1</td>\n",
       "      <td>In Case C‑414/20 PPU</td>\n",
       "      <td>Spetsializirana prokuratura,</td>\n",
       "      <td>Poolte_nimed</td>\n",
       "      <td>C02AlineaAltA</td>\n",
       "    </tr>\n",
       "  </tbody>\n",
       "</table>\n",
       "</div>"
      ],
      "text/plain": [
       "   Kohtuasja_ID          Kohtuasja_nr  \\\n",
       "0             1  In Case C‑414/20 PPU   \n",
       "1             1  In Case C‑414/20 PPU   \n",
       "2             1  In Case C‑414/20 PPU   \n",
       "3             1  In Case C‑414/20 PPU   \n",
       "4             1  In Case C‑414/20 PPU   \n",
       "\n",
       "                                          Lõigu sisu     Pealkiri1  \\\n",
       "0              JUDGMENT OF THE COURT (Third Chamber)          Koda   \n",
       "1                                   13 January 2021        Kuupaev   \n",
       "2  (Reference for a preliminary ruling – Urgent p...        Viited   \n",
       "3                                                MM,  Poolte_nimed   \n",
       "4                       Spetsializirana prokuratura,  Poolte_nimed   \n",
       "\n",
       "             Tag  \n",
       "0      C19Centre  \n",
       "1      C19Centre  \n",
       "2  C71Indicateur  \n",
       "3  C02AlineaAltA  \n",
       "4  C02AlineaAltA  "
      ]
     },
     "execution_count": 47,
     "metadata": {},
     "output_type": "execute_result"
    }
   ],
   "source": [
    "data = pd.read_csv(\"PohitabelEN.csv\")\n",
    "data.head()"
   ]
  },
  {
   "cell_type": "code",
   "execution_count": 48,
   "metadata": {},
   "outputs": [
    {
     "data": {
      "text/plain": [
       "'JUDGMENT OF THE COURT (Third Chamber)'"
      ]
     },
     "execution_count": 48,
     "metadata": {},
     "output_type": "execute_result"
    }
   ],
   "source": [
    "column_list=data['Lõigu sisu'].to_list()\n",
    "column_list[0]"
   ]
  },
  {
   "cell_type": "code",
   "execution_count": 87,
   "metadata": {},
   "outputs": [
    {
     "data": {
      "text/plain": [
       "'JUDGMENT OF THE COURT (Third Chamber)'"
      ]
     },
     "execution_count": 87,
     "metadata": {},
     "output_type": "execute_result"
    }
   ],
   "source": [
    "column_list_low=[str(x).lower() for x in column_list]   \n",
    "column_list[0]"
   ]
  },
  {
   "cell_type": "code",
   "execution_count": 113,
   "metadata": {},
   "outputs": [],
   "source": [
    "from gensim import utils\n",
    "\n",
    "class MyCorpus:\n",
    "    \"\"\"An iterator that yields sentences (lists of str).\"\"\"\n",
    "\n",
    "    def __iter__(self):\n",
    "        for x in column_list_low:\n",
    "            # assume there's one document per line, tokens separated by whitespace\n",
    "            yield utils.simple_preprocess(x, min_len=3)\n",
    "            "
   ]
  },
  {
   "cell_type": "code",
   "execution_count": 114,
   "metadata": {},
   "outputs": [],
   "source": [
    "import gensim.models\n",
    "\n",
    "sentences = MyCorpus() #lõhub lause tükkideks\n",
    "model = gensim.models.Word2Vec(sentences=sentences) #treenib mudeli ette antud andmete peal"
   ]
  },
  {
   "cell_type": "code",
   "execution_count": 111,
   "metadata": {},
   "outputs": [
    {
     "data": {
      "text/plain": [
       "['judgment', 'court', 'third', 'chamber']"
      ]
     },
     "execution_count": 111,
     "metadata": {},
     "output_type": "execute_result"
    }
   ],
   "source": [
    "next(iter(sentences))"
   ]
  },
  {
   "cell_type": "code",
   "execution_count": 110,
   "metadata": {},
   "outputs": [],
   "source": [
    "#Proovitud salvestada mudelit, kus asub?\n",
    "import tempfile\n",
    "\n",
    "with tempfile.NamedTemporaryFile(prefix='gensim-model-', delete=False) as tmp:\n",
    "    temporary_filepath = tmp.name\n",
    "    model.save(temporary_filepath)\n",
    "#to load tempfile:  new_model = gensim.models.Word2Vec.load(temporary_filepath)"
   ]
  },
  {
   "cell_type": "code",
   "execution_count": 115,
   "metadata": {},
   "outputs": [
    {
     "name": "stderr",
     "output_type": "stream",
     "text": [
      "<ipython-input-115-b78372aa2fdb>:1: DeprecationWarning: Call to deprecated `most_similar` (Method will be removed in 4.0.0, use self.wv.most_similar() instead).\n",
      "  model.most_similar('tax')\n"
     ]
    },
    {
     "data": {
      "text/plain": [
       "[('vat', 0.692110538482666),\n",
       " ('taxes', 0.6870538592338562),\n",
       " ('taxation', 0.6827908754348755),\n",
       " ('irc', 0.6739990711212158),\n",
       " ('fiscal', 0.6178154945373535),\n",
       " ('att', 0.5937644839286804),\n",
       " ('taxing', 0.5670206546783447),\n",
       " ('dividend', 0.5596171617507935),\n",
       " ('fid', 0.5499796867370605),\n",
       " ('dividends', 0.5380105972290039)]"
      ]
     },
     "execution_count": 115,
     "metadata": {},
     "output_type": "execute_result"
    }
   ],
   "source": [
    "model.most_similar('tax') "
   ]
  },
  {
   "cell_type": "code",
   "execution_count": 116,
   "metadata": {},
   "outputs": [],
   "source": [
    "# funktsioon pikemate lausevektorite loomiseks (mean)\n",
    "def get_sum_vector(word2vec_model, words):\n",
    "    # remove out-of-vocabulary words\n",
    "    words = [word for word in words if word in word2vec_model.wv.vocab]\n",
    "    if len(words) >= 1:\n",
    "        return np.sum(word2vec_model[words], axis=0)\n",
    "    else:\n",
    "        return []"
   ]
  },
  {
   "cell_type": "code",
   "execution_count": 117,
   "metadata": {},
   "outputs": [
    {
     "name": "stderr",
     "output_type": "stream",
     "text": [
      "<ipython-input-116-cdbb58556c9c>:6: DeprecationWarning: Call to deprecated `__getitem__` (Method will be removed in 4.0.0, use self.wv.__getitem__() instead).\n",
      "  return np.sum(word2vec_model[words], axis=0)\n"
     ]
    }
   ],
   "source": [
    "# Käib kogu mudeli üle, selleks, et saada igast lõigust vektorid kasutades eelnevat funktsiooni get_mean_vector\n",
    "sonad_arrays=[]\n",
    "doc_jarjekord = []\n",
    "jarjekorra_nr = []\n",
    "num=0\n",
    "for doc in sentences:\n",
    "    vec = get_sum_vector(model, doc)\n",
    "    if len(vec) > 0:\n",
    "        sonad_arrays.append(vec)\n",
    "        doc_jarjekord.append(doc)\n",
    "        jarjekorra_nr.append(num)\n",
    "    num+=1"
   ]
  },
  {
   "cell_type": "code",
   "execution_count": 118,
   "metadata": {},
   "outputs": [],
   "source": [
    "#loodud proovilause, millega testida sarnasusi\n",
    "listike='Value added tax is important, tinkivinki.'"
   ]
  },
  {
   "cell_type": "code",
   "execution_count": 119,
   "metadata": {},
   "outputs": [
    {
     "name": "stderr",
     "output_type": "stream",
     "text": [
      "<ipython-input-34-57fb566a9efa>:6: DeprecationWarning: Call to deprecated `__getitem__` (Method will be removed in 4.0.0, use self.wv.__getitem__() instead).\n",
      "  return np.mean(word2vec_model[words], axis=0)\n"
     ]
    }
   ],
   "source": [
    "#teeb ette antud üheelemendilise listi vektoriks\n",
    "#proovimudel nt get_mean_vector, get_sum_vector\n",
    "def proovilistvektoriks(proovimudel, model, listike):\n",
    "    proovivektor=proovimudel(model, utils.simple_preprocess(listike))\n",
    "    return proovivektor\n",
    "\n",
    "proovivektoriks1=proovilistvektoriks(get_mean_vector, model, listike)"
   ]
  },
  {
   "cell_type": "code",
   "execution_count": 123,
   "metadata": {},
   "outputs": [
    {
     "data": {
      "text/plain": [
       "'–        as denominator, the total amount, exclusive of value added tax, of turnover per year attributable to transactions included in the numerator and to transactions in respect of which value added tax is not deductible. ...'"
      ]
     },
     "execution_count": 123,
     "metadata": {},
     "output_type": "execute_result"
    }
   ],
   "source": [
    "def vordlus (sonad_arrays, jarjekorra_nr, proovivektor, column_list_low):\n",
    "    sarnased_maatriks=cosine_similarity(np.stack(sonad_arrays, axis=0), Y=proovivektor.reshape(1, -1), dense_output=True)\n",
    "    sorteeritud_indeksid=np.argsort(np.squeeze(sarnased_maatriks))\n",
    "    koige_sarnasem_idx=jarjekorra_nr[sorteeritud_indeksid[len(sorteeritud_indeksid) - 10]]\n",
    "    return column_list_low[koige_sarnasem_idx]\n",
    "\n",
    "vordlus(sonad_arrays, jarjekorra_nr, proovivektoriks1, column_list_low)"
   ]
  },
  {
   "cell_type": "code",
   "execution_count": 57,
   "metadata": {},
   "outputs": [],
   "source": [
    "#rakendame koossiinuse sarnasuse leidmist (võrdleme prooviks ette antud lause vektorit kogu vektori peal)\n",
    "#sarnased_maatriks=cosine_similarity(np.stack(sonad_arrays, axis=0), Y=proovivektoriks1.reshape(1, -1), dense_output=True)"
   ]
  },
  {
   "cell_type": "code",
   "execution_count": 58,
   "metadata": {},
   "outputs": [
    {
     "data": {
      "text/plain": [
       "array([ 41676, 108888, 241708, ..., 255002, 521009, 567465], dtype=int64)"
      ]
     },
     "execution_count": 58,
     "metadata": {},
     "output_type": "execute_result"
    }
   ],
   "source": [
    "# np.squeezega läheme maatriksi sissepoole ja argsort sorteerime tulemused ära\n",
    "#sorteeritud_indeksid=np.argsort(np.squeeze(sarnased_maatriks))\n",
    "#sorteeritud_indeksid"
   ]
  },
  {
   "cell_type": "code",
   "execution_count": 66,
   "metadata": {},
   "outputs": [
    {
     "data": {
      "text/plain": [
       "array([0.81828535], dtype=float32)"
      ]
     },
     "execution_count": 66,
     "metadata": {},
     "output_type": "execute_result"
    }
   ],
   "source": [
    "#võtame sealt kõige viimase\n",
    "#sarnased_maatriks[567465] #leiab koossiinuse sarnasuse"
   ]
  },
  {
   "cell_type": "code",
   "execution_count": 67,
   "metadata": {},
   "outputs": [
    {
     "data": {
      "text/plain": [
       "575959"
      ]
     },
     "execution_count": 67,
     "metadata": {},
     "output_type": "execute_result"
    }
   ],
   "source": [
    "#jarjekorra_nr[567465] #leiab sarnase teksti õige indeksi"
   ]
  },
  {
   "cell_type": "code",
   "execution_count": 68,
   "metadata": {},
   "outputs": [
    {
     "data": {
      "text/plain": [
       "'–        value added tax,'"
      ]
     },
     "execution_count": 68,
     "metadata": {},
     "output_type": "execute_result"
    }
   ],
   "source": [
    "#column_list_low[575959] #kasutades eelnevat indeksit leiab teksti"
   ]
  }
 ],
 "metadata": {
  "kernelspec": {
   "display_name": "Python 3",
   "language": "python",
   "name": "python3"
  },
  "language_info": {
   "codemirror_mode": {
    "name": "ipython",
    "version": 3
   },
   "file_extension": ".py",
   "mimetype": "text/x-python",
   "name": "python",
   "nbconvert_exporter": "python",
   "pygments_lexer": "ipython3",
   "version": "3.7.10"
  }
 },
 "nbformat": 4,
 "nbformat_minor": 4
}
