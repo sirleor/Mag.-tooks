{
 "cells": [
  {
   "cell_type": "code",
   "execution_count": 1,
   "metadata": {},
   "outputs": [],
   "source": [
    "import urllib.request\n",
    "from bs4 import BeautifulSoup\n",
    "from pathlib import Path\n",
    "import pandas as pd\n",
    "import time"
   ]
  },
  {
   "cell_type": "code",
   "execution_count": 2,
   "metadata": {},
   "outputs": [],
   "source": [
    "#loeb urli ja loob HTML-i\n",
    "def query2soup(url):\n",
    "    try:\n",
    "        with urllib.request.urlopen(url) as response:\n",
    "            html = response.read()\n",
    "        soup = BeautifulSoup(html, 'html.parser')\n",
    "        return soup\n",
    "    except Exception as e:\n",
    "        print(f'excception {e}')\n",
    "        print(f'url {url}')"
   ]
  },
  {
   "cell_type": "code",
   "execution_count": 3,
   "metadata": {},
   "outputs": [],
   "source": [
    "# kutsub välja funktsiooni ja moodustab urlist tegeliku html-i\n",
    "#query2soup('http://curia.europa.eu/juris/document/document.jsf?docid=235721&mode=req&pageIndex=1&dir=&occ=first&part=1&text=&doclang=DA&cid=5722416')"
   ]
  },
  {
   "cell_type": "code",
   "execution_count": 4,
   "metadata": {},
   "outputs": [],
   "source": [
    "#salvestab html andmed muutujasse\n",
    "#html_soup=query2soup('http://curia.europa.eu/juris/document/document.jsf?pageIndex=2&docid=0&mode=req&dir=&occ=first&part=1&text=&doclang=DA&cid=5722416')"
   ]
  },
  {
   "cell_type": "code",
   "execution_count": 5,
   "metadata": {},
   "outputs": [],
   "source": [
    "# kirjutab html andmed eraldi faili, andes failile nime\n",
    "#Path('Data/example_html.txt').write_text(str(html_soup), encoding='utf-8')"
   ]
  },
  {
   "cell_type": "code",
   "execution_count": 6,
   "metadata": {},
   "outputs": [
    {
     "data": {
      "text/plain": [
       "<!DOCTYPE html PUBLIC \"-//W3C//DTD XHTML 1.0 Strict//EN\" \"http://www.w3.org/TR/xhtml1/DTD/xhtml1-strict.dtd\" >\n",
       "\n",
       "<html xmlns=\"http://www.w3.org/1999/xhtml\">\n",
       "<head>\n",
       "<meta content=\"IE=EmulateIE10\" http-equiv=\"X-UA-Compatible\"/>\n",
       "<meta content=\"text/html; charset=utf-8\" http-equiv=\"Content-Type\"/>\n",
       "<title>CURIA - Documents\n",
       "        </title>\n",
       "<link class=\"component\" href=\"http://curia.europa.eu/juris/a4j/s/3_3_3.Finalorg/richfaces/renderkit/html/css/basic_classes.xcss/DATB/eAFLUXraH7p8hjQAENMDqg__;jsessionid=222FFFF71A1684852C96121E11D18720\" rel=\"stylesheet\" type=\"text/css\"/><link class=\"component\" href=\"http://curia.europa.eu/juris/a4j/s/3_3_3.Finalorg/richfaces/renderkit/html/css/extended_classes.xcss/DATB/eAFLUXraH7p8hjQAENMDqg__;jsessionid=222FFFF71A1684852C96121E11D18720\" media=\"rich-extended-skinning\" rel=\"stylesheet\" type=\"text/css\"/><script id=\"org.ajax4jsf.queue_script\" type=\"text/javascript\">if (typeof A4J != 'undefined') { if (A4J.AJAX) { with (A4J.AJAX) {if (!EventQueue.getQueue('org.richfaces.queue.global')) { EventQueue.addQueue(new EventQueue('org.richfaces.queue.global',null,{'ignoreDupResponses':true} )) };}}};</script><link href=\"http://curia.europa.eu/juris/img/common/favicon16.ico\" rel=\"shortcut icon\" type=\"image/x-icon\"/>\n",
       "<link href=\"http://curia.europa.eu/juris/img/common/logo.gif\" rel=\"icon\" type=\"image/gif\"/>\n",
       "<link href=\"http://curia.europa.eu/juris/css/style_defaut.css?v=1\" media=\"screen\" rel=\"stylesheet\" type=\"text/css\"/>\n",
       "<link href=\"http://curia.europa.eu/juris/css/style_print.css?v=1\" media=\"print\" rel=\"stylesheet\" type=\"text/css\"/>\n",
       "<link href=\"http://curia.europa.eu/juris/css/Style_ARR_T_FR.css\" rel=\"stylesheet\" type=\"text/css\"/>\n",
       "<script src=\"http://curia.europa.eu/juris/js/common/richfaces/prototype.js\" type=\"text/javascript\"></script>\n",
       "<script src=\"http://curia.europa.eu/juris/js/common/jquery.js\" type=\"text/javascript\"></script>\n",
       "<script src=\"http://curia.europa.eu/juris/js/common/richfaces/a4j.js\" type=\"text/javascript\"></script>\n",
       "<script src=\"http://curia.europa.eu/juris/js/common/richfaces/browser_info.js\" type=\"text/javascript\"></script>\n",
       "<script src=\"http://curia.europa.eu/juris/js/common/richfaces/modalPanel.js\" type=\"text/javascript\"></script>\n",
       "<script src=\"http://curia.europa.eu/juris/js/common/richfaces/modalPanelBorder.js\" type=\"text/javascript\"></script>\n",
       "<script src=\"http://curia.europa.eu/juris/js/common/richfaces/skinning.js\" type=\"text/javascript\"></script>\n",
       "<script src=\"http://curia.europa.eu/juris/js/common/richfaces/utils.js\" type=\"text/javascript\"></script>\n",
       "<script type=\"text/javascript\">\n",
       "        //<![CDATA[ \n",
       "            A4J.AJAX.onExpired = function(loc,message) { \n",
       "            alert(\"Page expired. The page will be reloaded.\");\n",
       "            document.location.reload();\n",
       "            };\n",
       "            \n",
       "            function isSessionExpired() {};\n",
       "            \n",
       "            // Vérifie que l'url de la page courante contient l'ID de conversation\n",
       "            function checkCIDParam(){\n",
       "            \n",
       "                var url = window.location.href;\n",
       "                // Vérification de l'url récupérée\n",
       "                url= unescape(url);\n",
       "                var regex = new RegExp(\"^([A-Za-z0-9+\\s+/+\\.+:\\?_])*$\");\n",
       "                // Si l'url est vérifiée\n",
       "                if(regex.test(url)){\n",
       "                \turl = window.location.href;\n",
       "\t                if(url.indexOf(\"cid\") == -1){  \n",
       "\t                    // Si l'ID de conversation est absent alors on ajoute l'ID de conversation courant à l'url courante\n",
       "\t                    var newUrl = url + ((url.indexOf(\"?\") == -1) ? \"?\" : \"\\&amp;\") + \"cid=1331369\";\n",
       "\t                    window.location.href = newUrl;\n",
       "\t                }\n",
       "\t                else if(url.indexOf(\"recherche.jsf\") != -1 && url.indexOf(\"&\") != -1){\n",
       "\t                \t// On supprime tous les paramètres existants et on ajoute uniquement l'id de la conversation\n",
       "\t                \tvar newUrl = url.substr(0,url.indexOf(\"?\")) + \"?cid=1331369\";\n",
       "\t                \twindow.location.href = newUrl;\n",
       "\t                }\n",
       "                }\n",
       "            }\n",
       "            \n",
       "            // On appel la fonction JS qui ajoute le conversation id\n",
       "            jQuery(document).ready(function() {\n",
       "            \tcheckCIDParam();\n",
       "            });\n",
       "\n",
       "        //]]>\n",
       "        </script>\n",
       "<script type=\"text/javascript\">\n",
       "</script>\n",
       "<script src=\"http://curia.europa.eu/juris/js/navigation.js?v=1\" type=\"text/javascript\"></script>\n",
       "<script src=\"http://curia.europa.eu/juris/js/formulaire.js?v=1\" type=\"text/javascript\"></script>\n",
       "<script src=\"http://curia.europa.eu/juris/js/common/jquery.js?v=1\" type=\"text/javascript\"></script>\n",
       "<script src=\"http://curia.europa.eu/juris/js/common/toggle_left_column.js?v=1\" type=\"text/javascript\"></script>\n",
       "<script src=\"http://curia.europa.eu/juris/js/common/jquery-tooltip.js?v=1\" type=\"text/javascript\"></script><script id=\"j_id10\" type=\"text/javascript\">//<![CDATA[\n",
       "\t\tgetDocument=function(){A4J.AJAX.Submit(null,null,{'similarityGroupingId':'j_id10','parameters':{'j_id10':'j_id10'} ,'actionUrl':'/juris/document/document.jsf;jsessionid=222FFFF71A1684852C96121E11D18720'} )};\n",
       "\t\t//]]></script>\n",
       "</head>\n",
       "<body id=\"bodyPage\">\n",
       "<input name=\"version\" type=\"hidden\" value=\"1.16.14\"/>\n",
       "<div style='width:expression((((document.body.clientWidth-18)/document.body.clientWidth)*100) +\"%\");overflow-x : auto;'>\n",
       "<div class=\"waitBlock\" id=\"waitBlock\" style=\"display:none;\">\n",
       "</div>\n",
       "<div class=\"waitBlockContainer\" id=\"waitBlockContainer\" style=\"display:none;text-align:center;padding-top:10px;background-image:url(http://curia.europa.eu/juris/img/loading.gif);height:40px;background-position:center center;background-repeat:no-repeat;\">\n",
       "</div><span id=\"vide\"></span><span id=\"pagePrincipale\">\n",
       "<form action=\"http://curia.europa.eu/juris/document/document.jsf;jsessionid=222FFFF71A1684852C96121E11D18720\" enctype=\"application/x-www-form-urlencoded\" id=\"mainForm\" method=\"post\" name=\"mainForm\">\n",
       "<input name=\"mainForm\" type=\"hidden\" value=\"mainForm\"/>\n",
       "<div id=\"header\">\n",
       "<script defer=\"defer\" src=\"//europa.eu/webtools/load.js\" type=\"text/javascript\"></script>\n",
       "<script type=\"application/json\">{ \"utility\": \"piwik\", \"siteID\":19, \"sitePath\": [\"curia.europa.eu\"], \"instance\": \"europa.eu\" }</script>\n",
       "<div id=\"headerContent\" style=\"width:100%\">\n",
       "<a name=\"topOfResultDiv\"></a>\n",
       "<table width=\"100%\">\n",
       "<tr>\n",
       "<td width=\"170px\">\n",
       "<div id=\"header_logo\">\n",
       "<img alt=\" \" src=\"http://curia.europa.eu/juris/img/common/logo_curia.png?v=1\"/>\n",
       "</div>\n",
       "</td>\n",
       "<td valign=\"middle\">\n",
       "<div id=\"header_title_infoCuria\">InfoCuria</div>\n",
       "<div id=\"header_title\">Case-law</div>\n",
       "</td>\n",
       "<td align=\"right\" valign=\"bottom\">\n",
       "<div id=\"header_lang\">\n",
       "<img alt=\"lng_sel\" class=\"lng_sel\" onerror=\"this.src='../img/common/icon_languageselection.gif?v=1'\" src=\"http://curia.europa.eu/juris/document/img/common/icon_languageselection.gif?v=1\"/><select name=\"mainForm:j_id16\" onchange=\"displayWaitBlock();;A4J.AJAX.Submit('mainForm',event,{'oncomplete':function(request,event,data){hideWaitBlock();},'similarityGroupingId':'mainForm:j_id18','parameters':{'mainForm:j_id18':'mainForm:j_id18'} ,'actionUrl':'/juris/document/document.jsf;jsessionid=222FFFF71A1684852C96121E11D18720'} )\" size=\"1\"> <option value=\"bg\">български (bg)</option>\n",
       "<option value=\"es\">español (es)</option>\n",
       "<option value=\"cs\">čeština (cs)</option>\n",
       "<option value=\"da\">dansk (da)</option>\n",
       "<option value=\"de\">Deutsch (de)</option>\n",
       "<option value=\"et\">eesti keel (et)</option>\n",
       "<option value=\"el\">ελληνικά (el)</option>\n",
       "<option selected=\"selected\" value=\"en\">English (en)</option>\n",
       "<option value=\"fr\">français (fr)</option>\n",
       "<option value=\"ga\">Gaeilge (ga)</option>\n",
       "<option value=\"hr\">hrvatski (hr)</option>\n",
       "<option value=\"it\">italiano (it)</option>\n",
       "<option value=\"lv\">latviešu valoda (lv)</option>\n",
       "<option value=\"lt\">lietuvių kalba (lt)</option>\n",
       "<option value=\"hu\">magyar (hu)</option>\n",
       "<option value=\"mt\">il-Malti (mt)</option>\n",
       "<option value=\"nl\">Nederlands (nl)</option>\n",
       "<option value=\"pl\">polski (pl)</option>\n",
       "<option value=\"pt\">português (pt)</option>\n",
       "<option value=\"ro\">română (ro)</option>\n",
       "<option value=\"sk\">slovenčina (sk)</option>\n",
       "<option value=\"sl\">slovenščina (sl)</option>\n",
       "<option value=\"fi\">suomi (fi)</option>\n",
       "<option value=\"sv\">svenska (sv)</option>\n",
       "</select>\n",
       "</div>\n",
       "</td>\n",
       "</tr>\n",
       "</table>\n",
       "</div>\n",
       "</div>\n",
       "<div id=\"menu\">\n",
       "</div>\n",
       "<div id=\"main\">\n",
       "<div id=\"navigationpath\">\n",
       "<span>\n",
       "<strong><a href=\"http://curia.europa.eu/jcms/jcms/j_6?PortalAction_x_000_userLang=en\">Home</a> &gt; <a href=\"http://curia.europa.eu/juris/document/document.jsf;jsessionid=222FFFF71A1684852C96121E11D18720?docid=0&amp;text=&amp;dir=&amp;doclang=DA&amp;part=1&amp;occ=first&amp;mode=req&amp;pageIndex=2&amp;actionMethod=document%2Fdocument.xhtml%3AformController.resetAction&amp;cid=1331369\" id=\"mainForm:j_id150\">Search form</a> &gt; <a href=\"http://curia.europa.eu/juris/documents.jsf;jsessionid=222FFFF71A1684852C96121E11D18720?oqp=&amp;for=&amp;mat=or&amp;jge=&amp;td=%3BALL&amp;jur=C%2CT%2CF&amp;page=1&amp;dates=&amp;pcs=Oor&amp;lg=&amp;pro=&amp;nat=or&amp;cit=none%252CC%252CCJ%252CR%252C2008E%252C%252C%252C%252C%252C%252C%252C%252C%252C%252Ctrue%252Cfalse%252Cfalse&amp;language=en&amp;avg=&amp;cid=1331369\" id=\"mainForm:j_id154\">List of results</a> &gt; Documents\n",
       "         </strong>\n",
       "</span>\n",
       "</div>\n",
       "<div id=\"content\">\n",
       "<input id=\"lienImage\" name=\"lienImage\" type=\"hidden\" value=\"/juris\"/>\n",
       "<a href=\"#\" id=\"toggle_link\"><img class=\"toggle_img\" src=\"http://curia.europa.eu/juris/img/arrow_left.gif\"/></a>This document cannot be found. Click <a href=\"http://curia.europa.eu/juris/liste.jsf;jsessionid=222FFFF71A1684852C96121E11D18720?oqp=&amp;for=&amp;mat=or&amp;jge=&amp;td=%3BALL&amp;jur=C%2CT%2CF&amp;page=1&amp;dates=&amp;pcs=Oor&amp;lg=&amp;pro=&amp;nat=or&amp;cit=none%252CC%252CCJ%252CR%252C2008E%252C%252C%252C%252C%252C%252C%252C%252C%252C%252Ctrue%252Cfalse%252Cfalse&amp;language=en&amp;avg=&amp;cid=1331369\" id=\"mainForm:j_id254\" onclick=\"isSessionExpired();\">here</a> to return to the list of results\n",
       "                </div>\n",
       "</div><input id=\"javax.faces.ViewState\" name=\"javax.faces.ViewState\" type=\"hidden\" value=\"j_id1\"/>\n",
       "</form></span>\n",
       "</div>\n",
       "</body>\n",
       "</html>"
      ]
     },
     "execution_count": 6,
     "metadata": {},
     "output_type": "execute_result"
    }
   ],
   "source": [
    "# andmed failist kätte\n",
    "soup_from_txt = BeautifulSoup(Path('example_html.txt').read_text(encoding='utf-8'), 'html.parser')\n",
    "soup_from_txt"
   ]
  },
  {
   "cell_type": "code",
   "execution_count": 7,
   "metadata": {},
   "outputs": [],
   "source": [
    "# Vaja on lugeda CSV faili ridade kaupa\n",
    "df=pd.read_csv(\"ELlingid.csv\") # loeb pandase csv-d"
   ]
  },
  {
   "cell_type": "code",
   "execution_count": 8,
   "metadata": {},
   "outputs": [],
   "source": [
    "df[\"links\"]= df[\"links\"].str.replace(\"DA\", \"EN\", case = False) "
   ]
  },
  {
   "cell_type": "code",
   "execution_count": 96,
   "metadata": {},
   "outputs": [
    {
     "name": "stdout",
     "output_type": "stream",
     "text": [
      "excception [WinError 10054] An existing connection was forcibly closed by the remote host\n",
      "url http://curia.europa.eu/juris/document/document.jsf?docid=165223&mode=req&pageIndex=1636&dir=&occ=first&part=1&text=&doclang=EN&cid=5722416\n",
      "excception [WinError 10054] An existing connection was forcibly closed by the remote host\n",
      "url http://curia.europa.eu/juris/document/document.jsf?pageIndex=1&docid=0&mode=req&dir=&occ=first&part=1&text=&doclang=EN&cid=5722416\n",
      "excception [WinError 10054] An existing connection was forcibly closed by the remote host\n",
      "url http://curia.europa.eu/juris/document/document.jsf?docid=139361&mode=req&pageIndex=1648&dir=&occ=first&part=1&text=&doclang=EN&cid=5722416\n"
     ]
    }
   ],
   "source": [
    "#failist rea kaupa http kättesaamine ja nendest moodustada html, mis omakorda kirjutada faili\n",
    "for ind in df.index:\n",
    "    if ind>22278 and ind<23803:\n",
    "        html_soup=query2soup(df.links[ind])\n",
    "        Path('DataEN/'+str(ind)+'kohtulahend.txt').write_text(str(html_soup), encoding='utf-8')\n",
    "        time.sleep(1)"
   ]
  },
  {
   "cell_type": "code",
   "execution_count": null,
   "metadata": {},
   "outputs": [],
   "source": []
  }
 ],
 "metadata": {
  "kernelspec": {
   "display_name": "Python 3",
   "language": "python",
   "name": "python3"
  },
  "language_info": {
   "codemirror_mode": {
    "name": "ipython",
    "version": 3
   },
   "file_extension": ".py",
   "mimetype": "text/x-python",
   "name": "python",
   "nbconvert_exporter": "python",
   "pygments_lexer": "ipython3",
   "version": "3.7.4"
  }
 },
 "nbformat": 4,
 "nbformat_minor": 4
}
