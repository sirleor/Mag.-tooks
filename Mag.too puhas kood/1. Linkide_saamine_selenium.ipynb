{
 "cells": [
  {
   "cell_type": "code",
   "execution_count": null,
   "metadata": {},
   "outputs": [],
   "source": [
    "# Saada Lingid igalt curia lehelt kätte ja kirjutada need csv faili. Autor Risto Hinno"
   ]
  },
  {
   "cell_type": "code",
   "execution_count": 1,
   "metadata": {},
   "outputs": [],
   "source": [
    "from selenium import webdriver\n",
    "from webdriver_manager.chrome import ChromeDriverManager\n",
    "from selenium.webdriver.support.wait import WebDriverWait\n",
    "from selenium.webdriver.support import expected_conditions as EC\n",
    "from selenium.webdriver import ActionChains\n",
    "from selenium.webdriver.common.by import By\n",
    "from bs4 import BeautifulSoup\n",
    "import urllib\n",
    "import time"
   ]
  },
  {
   "cell_type": "markdown",
   "metadata": {},
   "source": [
    "### Clean"
   ]
  },
  {
   "cell_type": "code",
   "execution_count": 64,
   "metadata": {},
   "outputs": [
    {
     "name": "stderr",
     "output_type": "stream",
     "text": [
      "[WDM] - ====== WebDriver manager ======\n",
      "[WDM] - Current google-chrome version is 88.0.4324\n",
      "[WDM] - Get LATEST driver version for 88.0.4324\n",
      "[WDM] - Driver [C:\\Users\\sirle\\.wdm\\drivers\\chromedriver\\win32\\88.0.4324.96\\chromedriver.exe] found in cache\n"
     ]
    },
    {
     "name": "stdout",
     "output_type": "stream",
     "text": [
      "\n",
      "\n"
     ]
    }
   ],
   "source": [
    "driver = webdriver.Chrome(ChromeDriverManager().install())\n",
    "driver.get('http://curia.europa.eu/juris/documents.jsf?oqp=&for=&mat=or&jge=&td=%3B%3B%3BPUB1%3B%3B%3B%3BORDALL&jur=C%2CT%2CF&etat=clot&page=1&dates=&pcs=Oor&lg=&pro=&nat=or&cit=none%252CC%252CCJ%252CR%252C2008E%252C%252C%252C%252C%252C%252C%252C%252C%252C%252Ctrue%252Cfalse%252Cfalse&language=et&avg=&cid=5403783')\n",
    "driver.maximize_window()\n",
    "\n",
    "toolTip = WebDriverWait(driver, 10).until(EC.presence_of_element_located((By.XPATH, '//*[@id=\"listeDocuments\"]/div/table/tbody/tr[1]/td[6]/table/tbody/tr/td[2]')))\n",
    "hov = ActionChains(driver).move_to_element(toolTip)\n",
    "txt = hov.perform()\n",
    "\n",
    "tooltip_elem=WebDriverWait(driver, 10).until(EC.presence_of_element_located((By.XPATH, '//*[@id=\"mainForm:j_id70:0:j_id138:2\"]')))\n",
    "first_link=tooltip_elem.find_element_by_css_selector('a').get_attribute('href')\n",
    "#go to that page\n",
    "driver.get(first_link)"
   ]
  },
  {
   "cell_type": "code",
   "execution_count": 65,
   "metadata": {},
   "outputs": [],
   "source": [
    "links=[]\n",
    "for i in range(1701):\n",
    "    #fond doc menu\n",
    "    a = driver.find_elements_by_class_name(\"menu_documents\")\n",
    "    #get elemnts with kohtulahendid\n",
    "    docs=a[0].find_elements_by_css_selector('a')#.get_attribute('href')\n",
    "    #get links\n",
    "    for doc in docs:\n",
    "        links.append(doc.get_attribute('href'))\n",
    "    # get button to next page\n",
    "    btns_navi=driver.find_elements_by_class_name(\"btn_navigation\")\n",
    "    for btn in btns_navi:\n",
    "    #     print(btn.get_attribute(\"alt\"))\n",
    "        if btn.get_attribute(\"alt\")=='Järgmine lehekülg':\n",
    "            btn_next_page=btn\n",
    "\n",
    "    btn_next_page.click()"
   ]
  },
  {
   "cell_type": "code",
   "execution_count": 66,
   "metadata": {},
   "outputs": [
    {
     "data": {
      "text/plain": [
       "(23804, 18705)"
      ]
     },
     "execution_count": 66,
     "metadata": {},
     "output_type": "execute_result"
    }
   ],
   "source": [
    "len(links), len(set(links))"
   ]
  },
  {
   "cell_type": "code",
   "execution_count": 84,
   "metadata": {},
   "outputs": [
    {
     "data": {
      "text/plain": [
       "'http://curia.europa.eu/juris/document/document.jsf?docid=63921&mode=req&pageIndex=1701&dir=&occ=first&part=1&text=&doclang=DA&cid=5722416'"
      ]
     },
     "execution_count": 84,
     "metadata": {},
     "output_type": "execute_result"
    }
   ],
   "source": [
    "links[23801]"
   ]
  },
  {
   "cell_type": "code",
   "execution_count": 85,
   "metadata": {},
   "outputs": [],
   "source": [
    "import pandas as pd"
   ]
  },
  {
   "cell_type": "code",
   "execution_count": 87,
   "metadata": {},
   "outputs": [
    {
     "data": {
      "text/plain": [
       "(23804, 1)"
      ]
     },
     "execution_count": 87,
     "metadata": {},
     "output_type": "execute_result"
    }
   ],
   "source": [
    "df=pd.DataFrame({\"links\":links})\n",
    "df.shape"
   ]
  },
  {
   "cell_type": "code",
   "execution_count": 88,
   "metadata": {},
   "outputs": [],
   "source": [
    "df.to_csv(\"ELlingid.csv\", index=False)"
   ]
  }
 ],
 "metadata": {
  "kernelspec": {
   "display_name": "Python 3",
   "language": "python",
   "name": "python3"
  },
  "language_info": {
   "codemirror_mode": {
    "name": "ipython",
    "version": 3
   },
   "file_extension": ".py",
   "mimetype": "text/x-python",
   "name": "python",
   "nbconvert_exporter": "python",
   "pygments_lexer": "ipython3",
   "version": "3.7.10"
  }
 },
 "nbformat": 4,
 "nbformat_minor": 2
}
