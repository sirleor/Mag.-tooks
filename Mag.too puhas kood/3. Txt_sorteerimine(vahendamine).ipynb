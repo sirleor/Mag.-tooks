{
 "cells": [
  {
   "cell_type": "code",
   "execution_count": 5,
   "metadata": {},
   "outputs": [],
   "source": [
    "# Kolmas samm, eemaldada need txt failid, mis ei sisalda tegelikult kohtulahendit \n",
    "#(pole vastavasse keelde tõlgitud või sisu puduub)"
   ]
  },
  {
   "cell_type": "code",
   "execution_count": 6,
   "metadata": {},
   "outputs": [],
   "source": [
    "import urllib.request, os\n",
    "from bs4 import BeautifulSoup\n",
    "from pathlib import Path\n",
    "import shutil\n",
    "import os"
   ]
  },
  {
   "cell_type": "code",
   "execution_count": 7,
   "metadata": {},
   "outputs": [],
   "source": [
    "def query2soup(url):\n",
    "    with urllib.request.urlopen(url) as response:\n",
    "        html = response.read()\n",
    "    soup = BeautifulSoup(html, 'html.parser')\n",
    "    return soup"
   ]
  },
  {
   "cell_type": "code",
   "execution_count": 8,
   "metadata": {},
   "outputs": [],
   "source": [
    "#Kirjutada need eraldi kausta need, milles ei sisaldu järgmisi lauseid ET\n",
    "i=0\n",
    "while i<=23803:\n",
    "    text=Path('DataET/'+str(i)+'kohtulahend.txt').read_text(encoding='utf-8')\n",
    "    if \"The document is not available in that language\" in text:\n",
    "        i+=1\n",
    "    if \"This document cannot be found\"in text:\n",
    "        i+=1\n",
    "    else:\n",
    "        shutil.copyfile(Path('DataET/'+str(i)+'kohtulahend.txt'), Path('Proov/'+str(i)+'kohtulahend.txt'))\n",
    "        i+=1"
   ]
  },
  {
   "cell_type": "code",
   "execution_count": 9,
   "metadata": {},
   "outputs": [],
   "source": [
    "# ET eelmise kausta uuesti läbi laskmine, sest kõiki lauseid ei püüdnud kinni ja \n",
    "# kirjutada need uude kausta, kus neid lauseid pole\n",
    "i=0\n",
    "while i<=23803:\n",
    "    if os.path.isfile(Path('Proov/'+str(i)+'kohtulahend.txt')): #kontrolli kas fail eksisteerib\n",
    "        text=Path('Proov/'+str(i)+'kohtulahend.txt').read_text(encoding='utf-8')\n",
    "        if \"The document is not available in that language.\" in text:\n",
    "            i+=1\n",
    "        elif \"This document cannot be found.\" in text:\n",
    "            i+=1\n",
    "        else:\n",
    "            shutil.copyfile(Path('Proov/'+str(i)+'kohtulahend.txt'), Path('DataET_puhas/'+str(i)+'kohtulahend.txt'))\n",
    "            i+=1\n",
    "    else:\n",
    "        i+=1"
   ]
  }
 ],
 "metadata": {
  "kernelspec": {
   "display_name": "Python 3",
   "language": "python",
   "name": "python3"
  },
  "language_info": {
   "codemirror_mode": {
    "name": "ipython",
    "version": 3
   },
   "file_extension": ".py",
   "mimetype": "text/x-python",
   "name": "python",
   "nbconvert_exporter": "python",
   "pygments_lexer": "ipython3",
   "version": "3.7.10"
  }
 },
 "nbformat": 4,
 "nbformat_minor": 4
}
