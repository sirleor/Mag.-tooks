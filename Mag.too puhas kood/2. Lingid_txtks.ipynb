{
 "cells": [
  {
   "cell_type": "code",
   "execution_count": null,
   "metadata": {},
   "outputs": [],
   "source": [
    "# Teine samm, võta csv fail ja moodusta neist html-d"
   ]
  },
  {
   "cell_type": "code",
   "execution_count": 1,
   "metadata": {},
   "outputs": [],
   "source": [
    "import urllib.request\n",
    "from bs4 import BeautifulSoup\n",
    "from pathlib import Path\n",
    "import pandas as pd\n",
    "import time"
   ]
  },
  {
   "cell_type": "code",
   "execution_count": 2,
   "metadata": {},
   "outputs": [],
   "source": [
    "#loeb urli ja loob HTML-i\n",
    "def query2soup(url):\n",
    "    try:\n",
    "        with urllib.request.urlopen(url) as response:\n",
    "            html = response.read()\n",
    "        soup = BeautifulSoup(html, 'html.parser')\n",
    "        return soup\n",
    "    except Exception as e:\n",
    "        print(f'excception {e}')\n",
    "        print(f'url {url}')"
   ]
  },
  {
   "cell_type": "code",
   "execution_count": 7,
   "metadata": {},
   "outputs": [],
   "source": [
    "# Vaja on lugeda CSV faili ridade kaupa\n",
    "df=pd.read_csv(\"ELlingid.csv\") # loeb pandase csv-d"
   ]
  },
  {
   "cell_type": "code",
   "execution_count": 8,
   "metadata": {},
   "outputs": [],
   "source": [
    "df[\"links\"]= df[\"links\"].str.replace(\"DA\", \"ET\", case = False) "
   ]
  },
  {
   "cell_type": "code",
   "execution_count": 96,
   "metadata": {},
   "outputs": [
    {
     "name": "stdout",
     "output_type": "stream",
     "text": [
      "excception [WinError 10054] An existing connection was forcibly closed by the remote host\n",
      "url http://curia.europa.eu/juris/document/document.jsf?docid=165223&mode=req&pageIndex=1636&dir=&occ=first&part=1&text=&doclang=EN&cid=5722416\n",
      "excception [WinError 10054] An existing connection was forcibly closed by the remote host\n",
      "url http://curia.europa.eu/juris/document/document.jsf?pageIndex=1&docid=0&mode=req&dir=&occ=first&part=1&text=&doclang=EN&cid=5722416\n",
      "excception [WinError 10054] An existing connection was forcibly closed by the remote host\n",
      "url http://curia.europa.eu/juris/document/document.jsf?docid=139361&mode=req&pageIndex=1648&dir=&occ=first&part=1&text=&doclang=EN&cid=5722416\n"
     ]
    }
   ],
   "source": [
    "#failist rea kaupa http kättesaamine ja nendest moodustada html, mis omakorda kirjutada faili\n",
    "\n",
    "for ind in df.index:\n",
    "    if ind>22278 and ind<23803:# ind numbreid on muudetud, et osade kaupa HTML andmeid failidesse panna\n",
    "        html_soup=query2soup(df.links[ind])\n",
    "        Path('DataET/'+str(ind)+'kohtulahend.txt').write_text(str(html_soup), encoding='utf-8')\n",
    "        time.sleep(1)"
   ]
  },
  {
   "cell_type": "code",
   "execution_count": null,
   "metadata": {},
   "outputs": [],
   "source": []
  }
 ],
 "metadata": {
  "kernelspec": {
   "display_name": "Python 3",
   "language": "python",
   "name": "python3"
  },
  "language_info": {
   "codemirror_mode": {
    "name": "ipython",
    "version": 3
   },
   "file_extension": ".py",
   "mimetype": "text/x-python",
   "name": "python",
   "nbconvert_exporter": "python",
   "pygments_lexer": "ipython3",
   "version": "3.7.10"
  }
 },
 "nbformat": 4,
 "nbformat_minor": 4
}
