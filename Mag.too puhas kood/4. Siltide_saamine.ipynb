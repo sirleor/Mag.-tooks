{
 "cells": [
  {
   "cell_type": "code",
   "execution_count": null,
   "metadata": {},
   "outputs": [],
   "source": [
    "#Siltide(tag-de) kättesaamine, et hiljem neid käsitsi hinnata"
   ]
  },
  {
   "cell_type": "code",
   "execution_count": 1,
   "metadata": {},
   "outputs": [],
   "source": [
    "import urllib.request, os\n",
    "from bs4 import BeautifulSoup\n",
    "import pandas as pd\n",
    "from pathlib import Path\n",
    "import numpy as np\n",
    "import shutil\n",
    "import os"
   ]
  },
  {
   "cell_type": "code",
   "execution_count": 2,
   "metadata": {},
   "outputs": [
    {
     "name": "stdout",
     "output_type": "stream",
     "text": [
      "{'C28Pointnumerotemanuel', 'C10Marge1', 'C50Alineaencadre', 'C29Marge0doubleretrait', 'C37Dispositifmarge0doubleretrait', 'CTOC5', 'C41Marge0doubleretrait', 'C40Pointnumerotemanuel', 'C11Marge1avecretrait', 'C34Dispositifmarge1avectiretlong', 'C27Autre', 'Ctoc2', 'Cfootnotetext', 'Ctoc4', 'C10Tiretlong1', 'C20Centreitalique', 'C32Dispositifmarge1', 'Ctoc7', 'C39autre', 'C15Margeretrait0', 'C40Dispositifmarge0avecretrait', 'C12Marge1avectiretlong', 'C02AlineaAltA', 'C25Titrenumerote5', 'C24Titre4', 'C30Marge0doubleretrait', 'C33Questionmarge1', 'C23Niveau5titre3', 'C30Dispositifalinea', 'Cheading2', 'Ctoc3', 'C43Dispositiftiretlong', 'C77Signatures', 'CTOC2', 'C72Alineadroite', 'C22Titre2', 'C49FootnoteLangue', 'C36Niveau7titre5', 'Ctoc5', 'Cheading3', 'Ctoc1', 'C01PointAltN', 'C93Titredefinitif', 'C50Footnote', 'CStyle39Autre11ptCentered', 'C33Dispositifmarge1avecretrait', 'C80TableLibre', 'C16Margeretrait1', 'C39Autre', 'C25Niveau5titre5', 'C17Marge3avecretrait', 'C45Dispositifmarge1avectiretlong', 'C77SignaturesAlinea', 'C21Niveau5titre1', 'C03Tiretlong', 'CNormal', 'C35Niveau7titre4', 'C14Marge2avecretrait', 'C34Niveau7titre3', 'C27Titrenumerote7', 'C42Dispositifalinea', 'C48DispositifIntroduction', 'C36Dispositifmarge2avectiretlong', 'C73Alineacentregras', 'C28Niveau6titre3', 'C09Marge0avecretrait', 'CTOC1', 'Cendnotetext', 'C26Titrenumerote6', 'C25Titre5', 'Cfootnotetext,ALTSFOOTNOTE,fn,ModFootnoteText,ALTSFOOTNOTEChar,FootnoteTextChar1Char,FootnoteTextCharChar1Char,ftCharCharChar,FootnoteTextChar3CharCharChar,FootnoteTextChar2CharCharCharChar,Schriftart:9pt,9,Footnotes', 'C74Alineagrandespacement', 'C09Pointtypographiqueniv1', 'C41DispositifIntroduction', 'C19Centre', 'C31Niveau6titre6', 'C08Question', 'C26Titre6', 'C01PointnumeroteAltN', 'C77SignaturesComposition', 'C22Titrenumerote2', 'C18Marge3avectiretlong', 'C08Dispositif', 'C06Titre3', 'C44Dispositifmarge1avecretrait', 'C30Niveau6titre5', 'C29Niveau6titre4', 'C05Titre2', 'C13Marge2', 'CStyle39Autre11ptCenteredBefore:6ptAfter:0pt', 'C24Niveau5titre4', 'C15Marge2avectiretlong', 'C71Indicateur', 'C80Autre', 'C16Marge3', 'C04Titre1', 'C07Titre4', 'C24Titrenumerote4', 'Cheading1', 'C21Titre1', 'C38Marge1doubleretrait', 'C37Niveau7titre6', 'C26Niveau6titre1', 'C31Dispositiftiretlong', 'C32Niveau7titre1', 'C38Niveau7titre7', 'C33Niveau7titre2', 'C27Niveau6titre2', 'C23Titrenumerote3', 'C23Titre3', 'CTOC6', 'C42FootnoteLangue', 'C22Niveau5titre2', 'CTOC4', 'CTOC3', 'C19Marge1', 'CTOC7', 'C75Debutdesmotifs', 'C21Titrenumerote1', 'Ctoc6'}\n"
     ]
    }
   ],
   "source": [
    "#23803\n",
    "#Saada kätte kõik p-klasside sildid\n",
    "klassid=[]\n",
    "for i in range(23803):\n",
    "    try:\n",
    "        if os.path.isfile(Path('DataET_puhas/'+str(i)+'kohtulahend.txt')): #kontrolli kas fail eksisteerib\n",
    "            text=BeautifulSoup(Path('DataET_puhas/'+str(i)+'kohtulahend.txt').read_text(encoding='utf-8'))\n",
    "            for element in text.find_all('p', class_=True):\n",
    "                klassid.extend(element[\"class\"])\n",
    "        else:\n",
    "            i+=1\n",
    "    except Exception as e:\n",
    "        print('DataET_puhas/'+str(i)+'kohtulahend.txt')\n",
    "        print(e)\n",
    "\n",
    "print(set(klassid))"
   ]
  }
 ],
 "metadata": {
  "kernelspec": {
   "display_name": "Python 3",
   "language": "python",
   "name": "python3"
  },
  "language_info": {
   "codemirror_mode": {
    "name": "ipython",
    "version": 3
   },
   "file_extension": ".py",
   "mimetype": "text/x-python",
   "name": "python",
   "nbconvert_exporter": "python",
   "pygments_lexer": "ipython3",
   "version": "3.7.10"
  }
 },
 "nbformat": 4,
 "nbformat_minor": 4
}
